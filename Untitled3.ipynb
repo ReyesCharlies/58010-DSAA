{
  "nbformat": 4,
  "nbformat_minor": 0,
  "metadata": {
    "colab": {
      "provenance": [],
      "authorship_tag": "ABX9TyNoGQRXoLA0FlgPi0Dp+77n",
      "include_colab_link": true
    },
    "kernelspec": {
      "name": "python3",
      "display_name": "Python 3"
    },
    "language_info": {
      "name": "python"
    }
  },
  "cells": [
    {
      "cell_type": "markdown",
      "metadata": {
        "id": "view-in-github",
        "colab_type": "text"
      },
      "source": [
        "<a href=\"https://colab.research.google.com/github/ReyesCharlies/58010-DSAA/blob/main/Untitled3.ipynb\" target=\"_parent\"><img src=\"https://colab.research.google.com/assets/colab-badge.svg\" alt=\"Open In Colab\"/></a>"
      ]
    },
    {
      "cell_type": "code",
      "execution_count": 22,
      "metadata": {
        "colab": {
          "base_uri": "https://localhost:8080/"
        },
        "id": "aIiM20i9Ymyc",
        "outputId": "20db3b38-1135-433b-f14d-19238a6dee70"
      },
      "outputs": [
        {
          "output_type": "stream",
          "name": "stdout",
          "text": [
            "367\n",
            "[26, 49, 57, 62, 75, 98]\n"
          ]
        }
      ],
      "source": [
        "num = [26,49,98,57,62,75]\n",
        "\n",
        "y = num[0]+num[1]+num[2]+num[3]+num[4]+num[5]\n",
        "\n",
        "print(y)\n",
        "\n",
        "num.sort()\n",
        "print(num)"
      ]
    }
  ]
}