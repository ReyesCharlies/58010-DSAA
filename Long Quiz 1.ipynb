{
  "nbformat": 4,
  "nbformat_minor": 0,
  "metadata": {
    "colab": {
      "provenance": [],
      "authorship_tag": "ABX9TyMZKOQQne0prOaFqBPavY0Q"
    },
    "kernelspec": {
      "name": "python3",
      "display_name": "Python 3"
    },
    "language_info": {
      "name": "python"
    }
  },
  "cells": [
    {
      "cell_type": "markdown",
      "source": [
        "Create a python or C++ program that appends each character of your full name and displays each character in reverse order"
      ],
      "metadata": {
        "id": "cTVzvQXVLWE3"
      }
    },
    {
      "cell_type": "code",
      "execution_count": 17,
      "metadata": {
        "colab": {
          "base_uri": "https://localhost:8080/"
        },
        "id": "y3-4aDI3LTcn",
        "outputId": "d534a199-de6e-45b3-e49e-8baf3bd3c134"
      },
      "outputs": [
        {
          "output_type": "stream",
          "name": "stdout",
          "text": [
            "['S', 'E', 'Y', 'E', 'R', 'S', 'E', 'I', 'L', 'R', 'A', 'H', 'C']\n"
          ]
        }
      ],
      "source": [
        "name = []\n",
        "name.append (\"C\")\n",
        "name.append ('H')\n",
        "name.append ('A')\n",
        "name.append ('R')\n",
        "name.append ('L')\n",
        "name.append ('I')\n",
        "name.append ('E')\n",
        "name.append ('S')\n",
        "name.append ('R')\n",
        "name.append ('E')\n",
        "name.append ('Y')\n",
        "name.append ('E')\n",
        "name.append ('S')\n",
        "\n",
        "name.reverse()\n",
        "print(name)"
      ]
    },
    {
      "cell_type": "markdown",
      "source": [
        "Using the set of positive whole numbers from 1 to 10, create a python or C++ program that displays if it is prime or composite."
      ],
      "metadata": {
        "id": "1e2hin_-Nmww"
      }
    },
    {
      "cell_type": "code",
      "source": [
        "def prime(number):\n",
        "  if number == 1:\n",
        "    return False\n",
        "\n",
        "  elif ((number%2) != 0):\n",
        "      return False\n",
        "\n",
        "  return True\n",
        "\n",
        "numbers = [1,2,3,4,5,6,7,8,9,10]\n",
        "\n",
        "for num in numbers:\n",
        "  if prime(num):\n",
        "    print(num,'is a composite number')\n",
        "  else:\n",
        "    print(num,'is a prime number')"
      ],
      "metadata": {
        "colab": {
          "base_uri": "https://localhost:8080/"
        },
        "id": "bMdrYGNqNog3",
        "outputId": "eb75aecb-42a3-4db6-ea25-46669ff4349e"
      },
      "execution_count": 40,
      "outputs": [
        {
          "output_type": "stream",
          "name": "stdout",
          "text": [
            "1 is a prime number\n",
            "2 is a composite number\n",
            "3 is a prime number\n",
            "4 is a composite number\n",
            "5 is a prime number\n",
            "6 is a composite number\n",
            "7 is a prime number\n",
            "8 is a composite number\n",
            "9 is a prime number\n",
            "10 is a composite number\n"
          ]
        }
      ]
    }
  ]
}