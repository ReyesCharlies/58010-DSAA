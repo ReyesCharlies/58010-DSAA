{
  "nbformat": 4,
  "nbformat_minor": 0,
  "metadata": {
    "colab": {
      "provenance": [],
      "authorship_tag": "ABX9TyMW+4/eyDnqhEfaNaYNPdCj",
      "include_colab_link": true
    },
    "kernelspec": {
      "name": "python3",
      "display_name": "Python 3"
    },
    "language_info": {
      "name": "python"
    }
  },
  "cells": [
    {
      "cell_type": "markdown",
      "metadata": {
        "id": "view-in-github",
        "colab_type": "text"
      },
      "source": [
        "<a href=\"https://colab.research.google.com/github/ReyesCharlies/58010-DSAA/blob/main/Midterm_Exam.ipynb\" target=\"_parent\"><img src=\"https://colab.research.google.com/assets/colab-badge.svg\" alt=\"Open In Colab\"/></a>"
      ]
    },
    {
      "cell_type": "code",
      "execution_count": 5,
      "metadata": {
        "colab": {
          "base_uri": "https://localhost:8080/"
        },
        "id": "ZQf2OVrFmNUb",
        "outputId": "05f594d0-74f9-4e3e-c3bb-78b13c0911e4"
      },
      "outputs": [
        {
          "output_type": "stream",
          "name": "stdout",
          "text": [
            "[{'A', 'B'}, {'B', 'E'}, {'C', 'B'}, {'F', 'B'}, {'C', 'E'}, {'C', 'F'}, {'C', 'I'}, {'C', 'M'}, {'C', 'D'}, {'D', 'L'}, {'K', 'D'}, {'M', 'E'}, {'N', 'E'}, {'F', 'G'}, {'F', 'I'}, {'G', 'I'}, {'G', 'J'}, {'J', 'I'}, {'K', 'I'}, {'K', 'J'}, {'M', 'L'}, {'P', 'L'}, {'M', 'P'}, {'N', 'M'}, {'N', 'O'}, {'O', 'M'}, {'O', 'P'}]\n"
          ]
        }
      ],
      "source": [
        "\n",
        "#Charlies Reyes\n",
        "\n",
        "\n",
        "class graph:\n",
        "   def __init__(self,gdict=None):\n",
        "      if gdict is None:\n",
        "         gdict = {}\n",
        "      self.gdict = gdict\n",
        "\n",
        "   def edges(self):\n",
        "      return self.findedges()\n",
        "\n",
        "   def findedges(self):\n",
        "      edgename = []\n",
        "      for vrtx in self.gdict:\n",
        "         for nxtvrtx in self.gdict[vrtx]:\n",
        "            if {nxtvrtx, vrtx} not in edgename:\n",
        "               edgename.append({vrtx, nxtvrtx})\n",
        "      return edgename\n",
        "\n",
        "graph_elements = {\n",
        "   \"A\" : [\"B\"],\n",
        "   \"B\" : [\"E\", \"C\", \"F\"],\n",
        "   \"C\" : [\"E\", \"B\", 'F', 'I', 'M', 'D'],\n",
        "   \"D\" : [\"C\",\"L\", 'K'],\n",
        "   \"E\" : [\"B\", 'C', 'M', 'N'],\n",
        "   \"F\" : [\"B\", 'C', 'G', 'I'],\n",
        "   \"G\" : [\"F\", 'I', 'J'],\n",
        "   \"I\" : [\"C\", 'F', 'G', 'J', 'K'],\n",
        "   \"J\" : [\"G\",'I','K'],\n",
        "   \"K\" : [\"D\",'I','J'],\n",
        "   \"L\" : [\"D\",'M','P'],\n",
        "   \"M\" : [\"C\",'P','L','N'],\n",
        "   \"N\" : [\"E\",'M','O'],\n",
        "   \"O\" : [\"N\",'M','P'],\n",
        "   \"P\" : ['O','M','L']\n",
        "}\n",
        "g = graph(graph_elements)\n",
        "print(g.edges())\n"
      ]
    },
    {
      "cell_type": "code",
      "source": [
        "#Charlies Reyes\n",
        "#Display Graph Vertices\n",
        "\n",
        "class graph:\n",
        "   def __init__(self,gdict=None):\n",
        "      if gdict is None:\n",
        "         gdict = []\n",
        "      self.gdict = gdict\n",
        "# Get the keys of the dictionary\n",
        "   def getVertices(self):\n",
        "      return list(self.gdict.keys())\n",
        "# Create the dictionary with graph elements\n",
        "graph_elements = {\n",
        "  \"A\" : [\"B\"],\n",
        "   \"B\" : [\"E\", \"C\", \"F\"],\n",
        "   \"C\" : [\"E\", \"B\", 'F', 'I', 'M', 'D'],\n",
        "   \"D\" : [\"C\",\"L\", 'K'],\n",
        "   \"E\" : [\"B\", 'C', 'M', 'N'],\n",
        "   \"F\" : [\"B\", 'C', 'G', 'I'],\n",
        "   \"G\" : [\"F\", 'I', 'J'],\n",
        "   \"I\" : [\"C\", 'F', 'G', 'J', 'K'],\n",
        "   \"J\" : [\"G\",'I','K'],\n",
        "   \"K\" : [\"D\",'I','J'],\n",
        "   \"L\" : [\"D\",'M','P'],\n",
        "   \"M\" : [\"C\",'P','L','N'],\n",
        "   \"N\" : [\"E\",'M','O'],\n",
        "   \"O\" : [\"N\",'M','P'],\n",
        "   \"P\" : ['O','M','L']\n",
        "}\n",
        "g = graph(graph_elements)\n",
        "print(g.getVertices())"
      ],
      "metadata": {
        "colab": {
          "base_uri": "https://localhost:8080/"
        },
        "id": "9AbP_uflwjq0",
        "outputId": "1f98e3d0-18a8-4b18-b1d9-8c278d4d343f"
      },
      "execution_count": 6,
      "outputs": [
        {
          "output_type": "stream",
          "name": "stdout",
          "text": [
            "['A', 'B', 'C', 'D', 'E', 'F', 'G', 'I', 'J', 'K', 'L', 'M', 'N', 'O', 'P']\n"
          ]
        }
      ]
    }
  ]
}