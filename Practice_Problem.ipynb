{
  "nbformat": 4,
  "nbformat_minor": 0,
  "metadata": {
    "colab": {
      "provenance": [],
      "authorship_tag": "ABX9TyOxx4Oug7Z6I29Ohtor6716",
      "include_colab_link": true
    },
    "kernelspec": {
      "name": "python3",
      "display_name": "Python 3"
    },
    "language_info": {
      "name": "python"
    }
  },
  "cells": [
    {
      "cell_type": "markdown",
      "metadata": {
        "id": "view-in-github",
        "colab_type": "text"
      },
      "source": [
        "<a href=\"https://colab.research.google.com/github/ReyesCharlies/58010-DSAA/blob/main/Practice_Problem.ipynb\" target=\"_parent\"><img src=\"https://colab.research.google.com/assets/colab-badge.svg\" alt=\"Open In Colab\"/></a>"
      ]
    },
    {
      "cell_type": "code",
      "execution_count": 1,
      "metadata": {
        "colab": {
          "base_uri": "https://localhost:8080/"
        },
        "id": "-DHaghxLEpX4",
        "outputId": "202e5379-4b23-4416-b560-860e13d9f9eb"
      },
      "outputs": [
        {
          "output_type": "stream",
          "name": "stdout",
          "text": [
            "Total sum of even test scores: 186\n"
          ]
        }
      ],
      "source": [
        "\n",
        "total = 0\n",
        "\n",
        "test_scores = [26, 49, 98, 87, 62, 75]\n",
        "\n",
        "for score in test_scores:\n",
        "\n",
        "    if score % 2 == 0:\n",
        "\n",
        "        total += score\n",
        "\n",
        "\n",
        "print(\"Total sum of even test scores:\", total)"
      ]
    }
  ]
}